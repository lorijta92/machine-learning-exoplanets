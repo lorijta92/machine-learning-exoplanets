{
 "cells": [
  {
   "cell_type": "code",
   "execution_count": 1,
   "metadata": {},
   "outputs": [],
   "source": [
    "# Import dependencies\n",
    "import pandas as pd\n",
    "\n",
    "# Hide warning messages in notebook\n",
    "import warnings\n",
    "warnings.filterwarnings('ignore')"
   ]
  },
  {
   "cell_type": "markdown",
   "metadata": {},
   "source": [
    "# Read the CSV and Perform Basic Data Cleaning"
   ]
  },
  {
   "cell_type": "code",
   "execution_count": 2,
   "metadata": {},
   "outputs": [
    {
     "data": {
      "text/html": [
       "<div>\n",
       "<style scoped>\n",
       "    .dataframe tbody tr th:only-of-type {\n",
       "        vertical-align: middle;\n",
       "    }\n",
       "\n",
       "    .dataframe tbody tr th {\n",
       "        vertical-align: top;\n",
       "    }\n",
       "\n",
       "    .dataframe thead th {\n",
       "        text-align: right;\n",
       "    }\n",
       "</style>\n",
       "<table border=\"1\" class=\"dataframe\">\n",
       "  <thead>\n",
       "    <tr style=\"text-align: right;\">\n",
       "      <th></th>\n",
       "      <th>koi_disposition</th>\n",
       "      <th>koi_fpflag_nt</th>\n",
       "      <th>koi_fpflag_ss</th>\n",
       "      <th>koi_fpflag_co</th>\n",
       "      <th>koi_fpflag_ec</th>\n",
       "      <th>koi_period</th>\n",
       "      <th>koi_period_err1</th>\n",
       "      <th>koi_period_err2</th>\n",
       "      <th>koi_time0bk</th>\n",
       "      <th>koi_time0bk_err1</th>\n",
       "      <th>...</th>\n",
       "      <th>koi_steff_err2</th>\n",
       "      <th>koi_slogg</th>\n",
       "      <th>koi_slogg_err1</th>\n",
       "      <th>koi_slogg_err2</th>\n",
       "      <th>koi_srad</th>\n",
       "      <th>koi_srad_err1</th>\n",
       "      <th>koi_srad_err2</th>\n",
       "      <th>ra</th>\n",
       "      <th>dec</th>\n",
       "      <th>koi_kepmag</th>\n",
       "    </tr>\n",
       "  </thead>\n",
       "  <tbody>\n",
       "    <tr>\n",
       "      <th>0</th>\n",
       "      <td>CONFIRMED</td>\n",
       "      <td>0</td>\n",
       "      <td>0</td>\n",
       "      <td>0</td>\n",
       "      <td>0</td>\n",
       "      <td>54.418383</td>\n",
       "      <td>2.479000e-04</td>\n",
       "      <td>-2.479000e-04</td>\n",
       "      <td>162.513840</td>\n",
       "      <td>0.003520</td>\n",
       "      <td>...</td>\n",
       "      <td>-81</td>\n",
       "      <td>4.467</td>\n",
       "      <td>0.064</td>\n",
       "      <td>-0.096</td>\n",
       "      <td>0.927</td>\n",
       "      <td>0.105</td>\n",
       "      <td>-0.061</td>\n",
       "      <td>291.93423</td>\n",
       "      <td>48.141651</td>\n",
       "      <td>15.347</td>\n",
       "    </tr>\n",
       "    <tr>\n",
       "      <th>1</th>\n",
       "      <td>FALSE POSITIVE</td>\n",
       "      <td>0</td>\n",
       "      <td>1</td>\n",
       "      <td>0</td>\n",
       "      <td>0</td>\n",
       "      <td>19.899140</td>\n",
       "      <td>1.490000e-05</td>\n",
       "      <td>-1.490000e-05</td>\n",
       "      <td>175.850252</td>\n",
       "      <td>0.000581</td>\n",
       "      <td>...</td>\n",
       "      <td>-176</td>\n",
       "      <td>4.544</td>\n",
       "      <td>0.044</td>\n",
       "      <td>-0.176</td>\n",
       "      <td>0.868</td>\n",
       "      <td>0.233</td>\n",
       "      <td>-0.078</td>\n",
       "      <td>297.00482</td>\n",
       "      <td>48.134129</td>\n",
       "      <td>15.436</td>\n",
       "    </tr>\n",
       "    <tr>\n",
       "      <th>2</th>\n",
       "      <td>FALSE POSITIVE</td>\n",
       "      <td>0</td>\n",
       "      <td>1</td>\n",
       "      <td>0</td>\n",
       "      <td>0</td>\n",
       "      <td>1.736952</td>\n",
       "      <td>2.630000e-07</td>\n",
       "      <td>-2.630000e-07</td>\n",
       "      <td>170.307565</td>\n",
       "      <td>0.000115</td>\n",
       "      <td>...</td>\n",
       "      <td>-174</td>\n",
       "      <td>4.564</td>\n",
       "      <td>0.053</td>\n",
       "      <td>-0.168</td>\n",
       "      <td>0.791</td>\n",
       "      <td>0.201</td>\n",
       "      <td>-0.067</td>\n",
       "      <td>285.53461</td>\n",
       "      <td>48.285210</td>\n",
       "      <td>15.597</td>\n",
       "    </tr>\n",
       "    <tr>\n",
       "      <th>3</th>\n",
       "      <td>CONFIRMED</td>\n",
       "      <td>0</td>\n",
       "      <td>0</td>\n",
       "      <td>0</td>\n",
       "      <td>0</td>\n",
       "      <td>2.525592</td>\n",
       "      <td>3.760000e-06</td>\n",
       "      <td>-3.760000e-06</td>\n",
       "      <td>171.595550</td>\n",
       "      <td>0.001130</td>\n",
       "      <td>...</td>\n",
       "      <td>-211</td>\n",
       "      <td>4.438</td>\n",
       "      <td>0.070</td>\n",
       "      <td>-0.210</td>\n",
       "      <td>1.046</td>\n",
       "      <td>0.334</td>\n",
       "      <td>-0.133</td>\n",
       "      <td>288.75488</td>\n",
       "      <td>48.226200</td>\n",
       "      <td>15.509</td>\n",
       "    </tr>\n",
       "    <tr>\n",
       "      <th>4</th>\n",
       "      <td>CONFIRMED</td>\n",
       "      <td>0</td>\n",
       "      <td>0</td>\n",
       "      <td>0</td>\n",
       "      <td>0</td>\n",
       "      <td>4.134435</td>\n",
       "      <td>1.050000e-05</td>\n",
       "      <td>-1.050000e-05</td>\n",
       "      <td>172.979370</td>\n",
       "      <td>0.001900</td>\n",
       "      <td>...</td>\n",
       "      <td>-232</td>\n",
       "      <td>4.486</td>\n",
       "      <td>0.054</td>\n",
       "      <td>-0.229</td>\n",
       "      <td>0.972</td>\n",
       "      <td>0.315</td>\n",
       "      <td>-0.105</td>\n",
       "      <td>296.28613</td>\n",
       "      <td>48.224670</td>\n",
       "      <td>15.714</td>\n",
       "    </tr>\n",
       "  </tbody>\n",
       "</table>\n",
       "<p>5 rows × 41 columns</p>\n",
       "</div>"
      ],
      "text/plain": [
       "  koi_disposition  koi_fpflag_nt  koi_fpflag_ss  koi_fpflag_co  koi_fpflag_ec  \\\n",
       "0       CONFIRMED              0              0              0              0   \n",
       "1  FALSE POSITIVE              0              1              0              0   \n",
       "2  FALSE POSITIVE              0              1              0              0   \n",
       "3       CONFIRMED              0              0              0              0   \n",
       "4       CONFIRMED              0              0              0              0   \n",
       "\n",
       "   koi_period  koi_period_err1  koi_period_err2  koi_time0bk  \\\n",
       "0   54.418383     2.479000e-04    -2.479000e-04   162.513840   \n",
       "1   19.899140     1.490000e-05    -1.490000e-05   175.850252   \n",
       "2    1.736952     2.630000e-07    -2.630000e-07   170.307565   \n",
       "3    2.525592     3.760000e-06    -3.760000e-06   171.595550   \n",
       "4    4.134435     1.050000e-05    -1.050000e-05   172.979370   \n",
       "\n",
       "   koi_time0bk_err1  ...  koi_steff_err2  koi_slogg  koi_slogg_err1  \\\n",
       "0          0.003520  ...             -81      4.467           0.064   \n",
       "1          0.000581  ...            -176      4.544           0.044   \n",
       "2          0.000115  ...            -174      4.564           0.053   \n",
       "3          0.001130  ...            -211      4.438           0.070   \n",
       "4          0.001900  ...            -232      4.486           0.054   \n",
       "\n",
       "   koi_slogg_err2  koi_srad  koi_srad_err1  koi_srad_err2         ra  \\\n",
       "0          -0.096     0.927          0.105         -0.061  291.93423   \n",
       "1          -0.176     0.868          0.233         -0.078  297.00482   \n",
       "2          -0.168     0.791          0.201         -0.067  285.53461   \n",
       "3          -0.210     1.046          0.334         -0.133  288.75488   \n",
       "4          -0.229     0.972          0.315         -0.105  296.28613   \n",
       "\n",
       "         dec  koi_kepmag  \n",
       "0  48.141651      15.347  \n",
       "1  48.134129      15.436  \n",
       "2  48.285210      15.597  \n",
       "3  48.226200      15.509  \n",
       "4  48.224670      15.714  \n",
       "\n",
       "[5 rows x 41 columns]"
      ]
     },
     "execution_count": 2,
     "metadata": {},
     "output_type": "execute_result"
    }
   ],
   "source": [
    "# Read in data\n",
    "df = pd.read_csv(\"exoplanet_data.csv\")\n",
    "\n",
    "# Drop the null columns where all values are null\n",
    "df = df.dropna(axis='columns', how='all')\n",
    "\n",
    "# Drop the null rows\n",
    "df = df.dropna()\n",
    "df.head()"
   ]
  },
  {
   "cell_type": "code",
   "execution_count": 3,
   "metadata": {},
   "outputs": [
    {
     "name": "stdout",
     "output_type": "stream",
     "text": [
      "['CONFIRMED' 'FALSE POSITIVE' 'CANDIDATE']\n"
     ]
    }
   ],
   "source": [
    "print(df[\"koi_disposition\"].unique())"
   ]
  },
  {
   "cell_type": "markdown",
   "metadata": {},
   "source": [
    "# Select features (columns)"
   ]
  },
  {
   "cell_type": "code",
   "execution_count": 4,
   "metadata": {},
   "outputs": [],
   "source": [
    "# Set X equal to the entire data set, except for the first column\n",
    "X = df.iloc[:,1:]\n",
    "\n",
    "# Set y equal to the first column\n",
    "y = df.iloc[:,0]"
   ]
  },
  {
   "cell_type": "code",
   "execution_count": 5,
   "metadata": {},
   "outputs": [
    {
     "data": {
      "text/plain": [
       "array([0.15121593, 0.17576867, 0.13266166, 0.04907511, 0.01401733,\n",
       "       0.01221132, 0.01409163, 0.01406518, 0.02471234, 0.01553941,\n",
       "       0.01047573, 0.01203542, 0.00927222, 0.01597601, 0.0326252 ,\n",
       "       0.01769497, 0.01328625, 0.01202508, 0.00991825, 0.01044381,\n",
       "       0.01046605, 0.01568941, 0.01044784, 0.01017696, 0.00979598,\n",
       "       0.00730881, 0.04108154, 0.00933344, 0.0091328 , 0.02304463,\n",
       "       0.01627924, 0.00927024, 0.0095696 , 0.01150771, 0.00974022,\n",
       "       0.01015067, 0.01035599, 0.01067806, 0.00951516, 0.00934415])"
      ]
     },
     "execution_count": 5,
     "metadata": {},
     "output_type": "execute_result"
    }
   ],
   "source": [
    "# Search for top 10 features according to feature importances\n",
    "from sklearn.ensemble import ExtraTreesClassifier\n",
    "\n",
    "model = ExtraTreesClassifier()\n",
    "model.fit(X,y)\n",
    "model.feature_importances_"
   ]
  },
  {
   "cell_type": "code",
   "execution_count": 6,
   "metadata": {},
   "outputs": [
    {
     "data": {
      "text/plain": [
       "koi_fpflag_ss        0.175769\n",
       "koi_fpflag_nt        0.151216\n",
       "koi_fpflag_co        0.132662\n",
       "koi_fpflag_ec        0.049075\n",
       "koi_model_snr        0.041082\n",
       "koi_duration_err1    0.032625\n",
       "koi_time0bk_err1     0.024712\n",
       "koi_steff_err1       0.023045\n",
       "koi_duration_err2    0.017695\n",
       "koi_steff_err2       0.016279\n",
       "dtype: float64"
      ]
     },
     "execution_count": 6,
     "metadata": {},
     "output_type": "execute_result"
    }
   ],
   "source": [
    "# Store the top 10 features as a series, using the column headers as the index\n",
    "feat_imp = pd.Series(model.feature_importances_, index=X.columns).nlargest(10)\n",
    "feat_imp"
   ]
  },
  {
   "cell_type": "code",
   "execution_count": 7,
   "metadata": {},
   "outputs": [],
   "source": [
    "# Set features based on feature importances\n",
    "X = df[feat_imp.index]\n",
    "\n",
    "# Use koi_disposition for y values\n",
    "y = df['koi_disposition']"
   ]
  },
  {
   "cell_type": "markdown",
   "metadata": {},
   "source": [
    "# Create a Train Test Split"
   ]
  },
  {
   "cell_type": "code",
   "execution_count": 8,
   "metadata": {},
   "outputs": [],
   "source": [
    "from sklearn.model_selection import train_test_split\n",
    "X_train, X_test, y_train, y_test = train_test_split(X, y, stratify=y)"
   ]
  },
  {
   "cell_type": "markdown",
   "metadata": {},
   "source": [
    "# Pre-processing\n",
    "\n",
    "Scale the data using the MinMaxScaler"
   ]
  },
  {
   "cell_type": "code",
   "execution_count": 9,
   "metadata": {},
   "outputs": [],
   "source": [
    "from sklearn.preprocessing import MinMaxScaler\n",
    "\n",
    "# Create scaler object\n",
    "X_scaler = MinMaxScaler().fit(X_train)\n",
    "\n",
    "# Scale training and testing data\n",
    "X_train_scaled = X_scaler.transform(X_train)\n",
    "X_test_scaled = X_scaler.transform(X_test)"
   ]
  },
  {
   "cell_type": "markdown",
   "metadata": {},
   "source": [
    "# Train the Model\n",
    "Using a logistic regression\n"
   ]
  },
  {
   "cell_type": "code",
   "execution_count": 10,
   "metadata": {},
   "outputs": [
    {
     "data": {
      "text/plain": [
       "LogisticRegression(C=1.0, class_weight=None, dual=False, fit_intercept=True,\n",
       "                   intercept_scaling=1, l1_ratio=None, max_iter=100,\n",
       "                   multi_class='warn', n_jobs=None, penalty='l2',\n",
       "                   random_state=None, solver='warn', tol=0.0001, verbose=0,\n",
       "                   warm_start=False)"
      ]
     },
     "execution_count": 10,
     "metadata": {},
     "output_type": "execute_result"
    }
   ],
   "source": [
    "from sklearn.linear_model import LogisticRegression\n",
    "\n",
    "# Initialize model\n",
    "model = LogisticRegression()\n",
    "\n",
    "# Train the model\n",
    "model.fit(X_train_scaled, y_train)"
   ]
  },
  {
   "cell_type": "code",
   "execution_count": 11,
   "metadata": {},
   "outputs": [
    {
     "name": "stdout",
     "output_type": "stream",
     "text": [
      "Training Data Score: 0.834827388899485\n",
      "Testing Data Score: 0.8386727688787186\n"
     ]
    }
   ],
   "source": [
    "# Score the model\n",
    "print(f\"Training Data Score: {model.score(X_train_scaled, y_train)}\")\n",
    "print(f\"Testing Data Score: {model.score(X_test_scaled, y_test)}\")"
   ]
  },
  {
   "cell_type": "markdown",
   "metadata": {},
   "source": [
    "# Predict"
   ]
  },
  {
   "cell_type": "code",
   "execution_count": 12,
   "metadata": {},
   "outputs": [
    {
     "data": {
      "text/html": [
       "<div>\n",
       "<style scoped>\n",
       "    .dataframe tbody tr th:only-of-type {\n",
       "        vertical-align: middle;\n",
       "    }\n",
       "\n",
       "    .dataframe tbody tr th {\n",
       "        vertical-align: top;\n",
       "    }\n",
       "\n",
       "    .dataframe thead th {\n",
       "        text-align: right;\n",
       "    }\n",
       "</style>\n",
       "<table border=\"1\" class=\"dataframe\">\n",
       "  <thead>\n",
       "    <tr style=\"text-align: right;\">\n",
       "      <th></th>\n",
       "      <th>Actual</th>\n",
       "      <th>Predicted</th>\n",
       "    </tr>\n",
       "  </thead>\n",
       "  <tbody>\n",
       "    <tr>\n",
       "      <th>1084</th>\n",
       "      <td>CONFIRMED</td>\n",
       "      <td>CANDIDATE</td>\n",
       "    </tr>\n",
       "    <tr>\n",
       "      <th>3380</th>\n",
       "      <td>CANDIDATE</td>\n",
       "      <td>CANDIDATE</td>\n",
       "    </tr>\n",
       "    <tr>\n",
       "      <th>4904</th>\n",
       "      <td>CANDIDATE</td>\n",
       "      <td>CANDIDATE</td>\n",
       "    </tr>\n",
       "    <tr>\n",
       "      <th>6</th>\n",
       "      <td>CONFIRMED</td>\n",
       "      <td>CONFIRMED</td>\n",
       "    </tr>\n",
       "    <tr>\n",
       "      <th>1665</th>\n",
       "      <td>FALSE POSITIVE</td>\n",
       "      <td>FALSE POSITIVE</td>\n",
       "    </tr>\n",
       "  </tbody>\n",
       "</table>\n",
       "</div>"
      ],
      "text/plain": [
       "              Actual       Predicted\n",
       "1084       CONFIRMED       CANDIDATE\n",
       "3380       CANDIDATE       CANDIDATE\n",
       "4904       CANDIDATE       CANDIDATE\n",
       "6          CONFIRMED       CONFIRMED\n",
       "1665  FALSE POSITIVE  FALSE POSITIVE"
      ]
     },
     "execution_count": 12,
     "metadata": {},
     "output_type": "execute_result"
    }
   ],
   "source": [
    "predictions = model.predict(X_test_scaled)\n",
    "df_pred = pd.DataFrame({\"Actual\":y_test, \"Predicted\":predictions}) \n",
    "df_pred.head()"
   ]
  },
  {
   "cell_type": "markdown",
   "metadata": {},
   "source": [
    "# Hyperparameter Tuning\n",
    "\n",
    "Use `GridSearchCV` to tune the model's parameters"
   ]
  },
  {
   "cell_type": "code",
   "execution_count": 13,
   "metadata": {},
   "outputs": [],
   "source": [
    "from sklearn.model_selection import GridSearchCV\n",
    "import numpy as np\n",
    "\n",
    "# Create the GridSearchCV model\n",
    "param_grid = {'C':np.logspace(-4, 4, 20),\n",
    "             'penalty':['l1','l2']}\n",
    "\n",
    "grid = GridSearchCV(model, param_grid, verbose=3)"
   ]
  },
  {
   "cell_type": "code",
   "execution_count": 14,
   "metadata": {},
   "outputs": [
    {
     "name": "stdout",
     "output_type": "stream",
     "text": [
      "Fitting 3 folds for each of 40 candidates, totalling 120 fits\n",
      "[CV] C=0.0001, penalty=l1 ............................................\n",
      "[CV] ................ C=0.0001, penalty=l1, score=0.241, total=   0.0s\n",
      "[CV] C=0.0001, penalty=l1 ............................................\n",
      "[CV] ................ C=0.0001, penalty=l1, score=0.241, total=   0.0s\n",
      "[CV] C=0.0001, penalty=l1 ............................................\n",
      "[CV] ................ C=0.0001, penalty=l1, score=0.241, total=   0.0s\n",
      "[CV] C=0.0001, penalty=l2 ............................................\n",
      "[CV] ................ C=0.0001, penalty=l2, score=0.501, total=   0.0s\n",
      "[CV] C=0.0001, penalty=l2 ............................................\n",
      "[CV] ................ C=0.0001, penalty=l2, score=0.501, total=   0.0s\n",
      "[CV] C=0.0001, penalty=l2 ............................................\n",
      "[CV] ................ C=0.0001, penalty=l2, score=0.501, total=   0.0s\n",
      "[CV] C=0.00026366508987303583, penalty=l1 ............................\n",
      "[CV]  C=0.00026366508987303583, penalty=l1, score=0.241, total=   0.0s\n",
      "[CV] C=0.00026366508987303583, penalty=l1 ............................\n",
      "[CV]  C=0.00026366508987303583, penalty=l1, score=0.241, total=   0.0s\n",
      "[CV] C=0.00026366508987303583, penalty=l1 ............................\n",
      "[CV]  C=0.00026366508987303583, penalty=l1, score=0.241, total=   0.0s\n",
      "[CV] C=0.00026366508987303583, penalty=l2 ............................\n",
      "[CV]  C=0.00026366508987303583, penalty=l2, score=0.501, total=   0.0s\n",
      "[CV] C=0.00026366508987303583, penalty=l2 ............................\n",
      "[CV]  C=0.00026366508987303583, penalty=l2, score=0.501, total=   0.0s\n",
      "[CV] C=0.00026366508987303583, penalty=l2 ............................\n",
      "[CV]  C=0.00026366508987303583, penalty=l2, score=0.501, total=   0.0s\n",
      "[CV] C=0.0006951927961775605, penalty=l1 .............................\n",
      "[CV] . C=0.0006951927961775605, penalty=l1, score=0.241, total=   0.0s\n",
      "[CV] C=0.0006951927961775605, penalty=l1 .............................\n"
     ]
    },
    {
     "name": "stderr",
     "output_type": "stream",
     "text": [
      "[Parallel(n_jobs=1)]: Using backend SequentialBackend with 1 concurrent workers.\n",
      "[Parallel(n_jobs=1)]: Done   1 out of   1 | elapsed:    0.0s remaining:    0.0s\n",
      "[Parallel(n_jobs=1)]: Done   2 out of   2 | elapsed:    0.0s remaining:    0.0s\n"
     ]
    },
    {
     "name": "stdout",
     "output_type": "stream",
     "text": [
      "[CV] . C=0.0006951927961775605, penalty=l1, score=0.241, total=   0.0s\n",
      "[CV] C=0.0006951927961775605, penalty=l1 .............................\n",
      "[CV] . C=0.0006951927961775605, penalty=l1, score=0.241, total=   0.0s\n",
      "[CV] C=0.0006951927961775605, penalty=l2 .............................\n",
      "[CV] . C=0.0006951927961775605, penalty=l2, score=0.501, total=   0.0s\n",
      "[CV] C=0.0006951927961775605, penalty=l2 .............................\n",
      "[CV] . C=0.0006951927961775605, penalty=l2, score=0.501, total=   0.0s\n",
      "[CV] C=0.0006951927961775605, penalty=l2 .............................\n",
      "[CV] . C=0.0006951927961775605, penalty=l2, score=0.501, total=   0.0s\n",
      "[CV] C=0.0018329807108324356, penalty=l1 .............................\n",
      "[CV] . C=0.0018329807108324356, penalty=l1, score=0.501, total=   0.0s\n",
      "[CV] C=0.0018329807108324356, penalty=l1 .............................\n",
      "[CV] . C=0.0018329807108324356, penalty=l1, score=0.501, total=   0.0s\n",
      "[CV] C=0.0018329807108324356, penalty=l1 .............................\n",
      "[CV] . C=0.0018329807108324356, penalty=l1, score=0.501, total=   0.0s\n",
      "[CV] C=0.0018329807108324356, penalty=l2 .............................\n",
      "[CV] . C=0.0018329807108324356, penalty=l2, score=0.501, total=   0.0s\n",
      "[CV] C=0.0018329807108324356, penalty=l2 .............................\n",
      "[CV] . C=0.0018329807108324356, penalty=l2, score=0.501, total=   0.0s\n",
      "[CV] C=0.0018329807108324356, penalty=l2 .............................\n",
      "[CV] . C=0.0018329807108324356, penalty=l2, score=0.501, total=   0.0s\n",
      "[CV] C=0.004832930238571752, penalty=l1 ..............................\n",
      "[CV] .. C=0.004832930238571752, penalty=l1, score=0.501, total=   0.0s\n",
      "[CV] C=0.004832930238571752, penalty=l1 ..............................\n",
      "[CV] .. C=0.004832930238571752, penalty=l1, score=0.501, total=   0.1s\n",
      "[CV] C=0.004832930238571752, penalty=l1 ..............................\n",
      "[CV] .. C=0.004832930238571752, penalty=l1, score=0.501, total=   0.0s\n",
      "[CV] C=0.004832930238571752, penalty=l2 ..............................\n",
      "[CV] .. C=0.004832930238571752, penalty=l2, score=0.502, total=   0.0s\n",
      "[CV] C=0.004832930238571752, penalty=l2 ..............................\n",
      "[CV] .. C=0.004832930238571752, penalty=l2, score=0.552, total=   0.0s\n",
      "[CV] C=0.004832930238571752, penalty=l2 ..............................\n",
      "[CV] .. C=0.004832930238571752, penalty=l2, score=0.522, total=   0.0s\n",
      "[CV] C=0.012742749857031334, penalty=l1 ..............................\n",
      "[CV] .. C=0.012742749857031334, penalty=l1, score=0.740, total=   0.1s\n",
      "[CV] C=0.012742749857031334, penalty=l1 ..............................\n",
      "[CV] .. C=0.012742749857031334, penalty=l1, score=0.744, total=   0.0s\n",
      "[CV] C=0.012742749857031334, penalty=l1 ..............................\n",
      "[CV] .. C=0.012742749857031334, penalty=l1, score=0.738, total=   0.1s\n",
      "[CV] C=0.012742749857031334, penalty=l2 ..............................\n",
      "[CV] .. C=0.012742749857031334, penalty=l2, score=0.754, total=   0.0s\n",
      "[CV] C=0.012742749857031334, penalty=l2 ..............................\n",
      "[CV] .. C=0.012742749857031334, penalty=l2, score=0.757, total=   0.0s\n",
      "[CV] C=0.012742749857031334, penalty=l2 ..............................\n",
      "[CV] .. C=0.012742749857031334, penalty=l2, score=0.753, total=   0.0s\n",
      "[CV] C=0.03359818286283781, penalty=l1 ...............................\n",
      "[CV] ... C=0.03359818286283781, penalty=l1, score=0.752, total=   0.1s\n",
      "[CV] C=0.03359818286283781, penalty=l1 ...............................\n",
      "[CV] ... C=0.03359818286283781, penalty=l1, score=0.755, total=   0.0s\n",
      "[CV] C=0.03359818286283781, penalty=l1 ...............................\n",
      "[CV] ... C=0.03359818286283781, penalty=l1, score=0.750, total=   0.0s\n",
      "[CV] C=0.03359818286283781, penalty=l2 ...............................\n",
      "[CV] ... C=0.03359818286283781, penalty=l2, score=0.765, total=   0.0s\n",
      "[CV] C=0.03359818286283781, penalty=l2 ...............................\n",
      "[CV] ... C=0.03359818286283781, penalty=l2, score=0.772, total=   0.0s\n",
      "[CV] C=0.03359818286283781, penalty=l2 ...............................\n",
      "[CV] ... C=0.03359818286283781, penalty=l2, score=0.769, total=   0.0s\n",
      "[CV] C=0.08858667904100823, penalty=l1 ...............................\n",
      "[CV] ... C=0.08858667904100823, penalty=l1, score=0.783, total=   0.1s\n",
      "[CV] C=0.08858667904100823, penalty=l1 ...............................\n",
      "[CV] ... C=0.08858667904100823, penalty=l1, score=0.818, total=   0.1s\n",
      "[CV] C=0.08858667904100823, penalty=l1 ...............................\n",
      "[CV] ... C=0.08858667904100823, penalty=l1, score=0.803, total=   0.0s\n",
      "[CV] C=0.08858667904100823, penalty=l2 ...............................\n",
      "[CV] ... C=0.08858667904100823, penalty=l2, score=0.808, total=   0.0s\n",
      "[CV] C=0.08858667904100823, penalty=l2 ...............................\n",
      "[CV] ... C=0.08858667904100823, penalty=l2, score=0.827, total=   0.0s\n",
      "[CV] C=0.08858667904100823, penalty=l2 ...............................\n",
      "[CV] ... C=0.08858667904100823, penalty=l2, score=0.811, total=   0.0s\n",
      "[CV] C=0.23357214690901212, penalty=l1 ...............................\n",
      "[CV] ... C=0.23357214690901212, penalty=l1, score=0.845, total=   0.1s\n",
      "[CV] C=0.23357214690901212, penalty=l1 ...............................\n",
      "[CV] ... C=0.23357214690901212, penalty=l1, score=0.838, total=   0.1s\n",
      "[CV] C=0.23357214690901212, penalty=l1 ...............................\n",
      "[CV] ... C=0.23357214690901212, penalty=l1, score=0.822, total=   0.1s\n",
      "[CV] C=0.23357214690901212, penalty=l2 ...............................\n",
      "[CV] ... C=0.23357214690901212, penalty=l2, score=0.833, total=   0.0s\n",
      "[CV] C=0.23357214690901212, penalty=l2 ...............................\n",
      "[CV] ... C=0.23357214690901212, penalty=l2, score=0.836, total=   0.0s\n",
      "[CV] C=0.23357214690901212, penalty=l2 ...............................\n",
      "[CV] ... C=0.23357214690901212, penalty=l2, score=0.819, total=   0.0s\n",
      "[CV] C=0.615848211066026, penalty=l1 .................................\n",
      "[CV] ..... C=0.615848211066026, penalty=l1, score=0.857, total=   0.3s\n",
      "[CV] C=0.615848211066026, penalty=l1 .................................\n",
      "[CV] ..... C=0.615848211066026, penalty=l1, score=0.858, total=   0.4s\n",
      "[CV] C=0.615848211066026, penalty=l1 .................................\n",
      "[CV] ..... C=0.615848211066026, penalty=l1, score=0.844, total=   0.3s\n",
      "[CV] C=0.615848211066026, penalty=l2 .................................\n",
      "[CV] ..... C=0.615848211066026, penalty=l2, score=0.837, total=   0.0s\n",
      "[CV] C=0.615848211066026, penalty=l2 .................................\n",
      "[CV] ..... C=0.615848211066026, penalty=l2, score=0.836, total=   0.0s\n",
      "[CV] C=0.615848211066026, penalty=l2 .................................\n",
      "[CV] ..... C=0.615848211066026, penalty=l2, score=0.817, total=   0.0s\n",
      "[CV] C=1.623776739188721, penalty=l1 .................................\n",
      "[CV] ..... C=1.623776739188721, penalty=l1, score=0.856, total=   0.3s\n",
      "[CV] C=1.623776739188721, penalty=l1 .................................\n",
      "[CV] ..... C=1.623776739188721, penalty=l1, score=0.860, total=   0.2s\n",
      "[CV] C=1.623776739188721, penalty=l1 .................................\n",
      "[CV] ..... C=1.623776739188721, penalty=l1, score=0.847, total=   0.3s\n",
      "[CV] C=1.623776739188721, penalty=l2 .................................\n",
      "[CV] ..... C=1.623776739188721, penalty=l2, score=0.847, total=   0.0s\n",
      "[CV] C=1.623776739188721, penalty=l2 .................................\n",
      "[CV] ..... C=1.623776739188721, penalty=l2, score=0.840, total=   0.0s\n",
      "[CV] C=1.623776739188721, penalty=l2 .................................\n",
      "[CV] ..... C=1.623776739188721, penalty=l2, score=0.819, total=   0.0s\n",
      "[CV] C=4.281332398719396, penalty=l1 .................................\n",
      "[CV] ..... C=4.281332398719396, penalty=l1, score=0.857, total=   0.7s\n",
      "[CV] C=4.281332398719396, penalty=l1 .................................\n",
      "[CV] ..... C=4.281332398719396, penalty=l1, score=0.864, total=   0.3s\n",
      "[CV] C=4.281332398719396, penalty=l1 .................................\n",
      "[CV] ..... C=4.281332398719396, penalty=l1, score=0.847, total=   0.7s\n",
      "[CV] C=4.281332398719396, penalty=l2 .................................\n",
      "[CV] ..... C=4.281332398719396, penalty=l2, score=0.850, total=   0.0s\n",
      "[CV] C=4.281332398719396, penalty=l2 .................................\n",
      "[CV] ..... C=4.281332398719396, penalty=l2, score=0.850, total=   0.0s\n",
      "[CV] C=4.281332398719396, penalty=l2 .................................\n",
      "[CV] ..... C=4.281332398719396, penalty=l2, score=0.831, total=   0.0s\n",
      "[CV] C=11.288378916846883, penalty=l1 ................................\n"
     ]
    },
    {
     "name": "stdout",
     "output_type": "stream",
     "text": [
      "[CV] .... C=11.288378916846883, penalty=l1, score=0.859, total=   1.4s\n",
      "[CV] C=11.288378916846883, penalty=l1 ................................\n",
      "[CV] .... C=11.288378916846883, penalty=l1, score=0.866, total=   0.5s\n",
      "[CV] C=11.288378916846883, penalty=l1 ................................\n",
      "[CV] .... C=11.288378916846883, penalty=l1, score=0.845, total=   1.5s\n",
      "[CV] C=11.288378916846883, penalty=l2 ................................\n",
      "[CV] .... C=11.288378916846883, penalty=l2, score=0.851, total=   0.0s\n",
      "[CV] C=11.288378916846883, penalty=l2 ................................\n",
      "[CV] .... C=11.288378916846883, penalty=l2, score=0.856, total=   0.0s\n",
      "[CV] C=11.288378916846883, penalty=l2 ................................\n",
      "[CV] .... C=11.288378916846883, penalty=l2, score=0.845, total=   0.0s\n",
      "[CV] C=29.763514416313132, penalty=l1 ................................\n",
      "[CV] .... C=29.763514416313132, penalty=l1, score=0.859, total=   1.4s\n",
      "[CV] C=29.763514416313132, penalty=l1 ................................\n",
      "[CV] .... C=29.763514416313132, penalty=l1, score=0.865, total=   0.7s\n",
      "[CV] C=29.763514416313132, penalty=l1 ................................\n",
      "[CV] .... C=29.763514416313132, penalty=l1, score=0.844, total=   1.3s\n",
      "[CV] C=29.763514416313132, penalty=l2 ................................\n",
      "[CV] .... C=29.763514416313132, penalty=l2, score=0.858, total=   0.0s\n",
      "[CV] C=29.763514416313132, penalty=l2 ................................\n",
      "[CV] .... C=29.763514416313132, penalty=l2, score=0.858, total=   0.0s\n",
      "[CV] C=29.763514416313132, penalty=l2 ................................\n",
      "[CV] .... C=29.763514416313132, penalty=l2, score=0.843, total=   0.0s\n",
      "[CV] C=78.47599703514607, penalty=l1 .................................\n",
      "[CV] ..... C=78.47599703514607, penalty=l1, score=0.858, total=   1.4s\n",
      "[CV] C=78.47599703514607, penalty=l1 .................................\n",
      "[CV] ..... C=78.47599703514607, penalty=l1, score=0.865, total=   0.7s\n",
      "[CV] C=78.47599703514607, penalty=l1 .................................\n",
      "[CV] ..... C=78.47599703514607, penalty=l1, score=0.844, total=   1.2s\n",
      "[CV] C=78.47599703514607, penalty=l2 .................................\n",
      "[CV] ..... C=78.47599703514607, penalty=l2, score=0.856, total=   0.0s\n",
      "[CV] C=78.47599703514607, penalty=l2 .................................\n",
      "[CV] ..... C=78.47599703514607, penalty=l2, score=0.862, total=   0.0s\n",
      "[CV] C=78.47599703514607, penalty=l2 .................................\n",
      "[CV] ..... C=78.47599703514607, penalty=l2, score=0.847, total=   0.0s\n",
      "[CV] C=206.913808111479, penalty=l1 ..................................\n",
      "[CV] ...... C=206.913808111479, penalty=l1, score=0.858, total=   1.3s\n",
      "[CV] C=206.913808111479, penalty=l1 ..................................\n",
      "[CV] ...... C=206.913808111479, penalty=l1, score=0.865, total=   0.8s\n",
      "[CV] C=206.913808111479, penalty=l1 ..................................\n",
      "[CV] ...... C=206.913808111479, penalty=l1, score=0.844, total=   1.2s\n",
      "[CV] C=206.913808111479, penalty=l2 ..................................\n",
      "[CV] ...... C=206.913808111479, penalty=l2, score=0.858, total=   0.0s\n",
      "[CV] C=206.913808111479, penalty=l2 ..................................\n",
      "[CV] ...... C=206.913808111479, penalty=l2, score=0.864, total=   0.0s\n",
      "[CV] C=206.913808111479, penalty=l2 ..................................\n",
      "[CV] ...... C=206.913808111479, penalty=l2, score=0.845, total=   0.0s\n",
      "[CV] C=545.5594781168514, penalty=l1 .................................\n",
      "[CV] ..... C=545.5594781168514, penalty=l1, score=0.858, total=   1.4s\n",
      "[CV] C=545.5594781168514, penalty=l1 .................................\n",
      "[CV] ..... C=545.5594781168514, penalty=l1, score=0.865, total=   0.8s\n",
      "[CV] C=545.5594781168514, penalty=l1 .................................\n",
      "[CV] ..... C=545.5594781168514, penalty=l1, score=0.844, total=   1.2s\n",
      "[CV] C=545.5594781168514, penalty=l2 .................................\n",
      "[CV] ..... C=545.5594781168514, penalty=l2, score=0.858, total=   0.0s\n",
      "[CV] C=545.5594781168514, penalty=l2 .................................\n",
      "[CV] ..... C=545.5594781168514, penalty=l2, score=0.864, total=   0.0s\n",
      "[CV] C=545.5594781168514, penalty=l2 .................................\n",
      "[CV] ..... C=545.5594781168514, penalty=l2, score=0.845, total=   0.0s\n",
      "[CV] C=1438.44988828766, penalty=l1 ..................................\n",
      "[CV] ...... C=1438.44988828766, penalty=l1, score=0.858, total=   1.4s\n",
      "[CV] C=1438.44988828766, penalty=l1 ..................................\n",
      "[CV] ...... C=1438.44988828766, penalty=l1, score=0.865, total=   0.7s\n",
      "[CV] C=1438.44988828766, penalty=l1 ..................................\n",
      "[CV] ...... C=1438.44988828766, penalty=l1, score=0.844, total=   1.2s\n",
      "[CV] C=1438.44988828766, penalty=l2 ..................................\n",
      "[CV] ...... C=1438.44988828766, penalty=l2, score=0.858, total=   0.0s\n",
      "[CV] C=1438.44988828766, penalty=l2 ..................................\n",
      "[CV] ...... C=1438.44988828766, penalty=l2, score=0.865, total=   0.0s\n",
      "[CV] C=1438.44988828766, penalty=l2 ..................................\n",
      "[CV] ...... C=1438.44988828766, penalty=l2, score=0.845, total=   0.0s\n",
      "[CV] C=3792.690190732246, penalty=l1 .................................\n",
      "[CV] ..... C=3792.690190732246, penalty=l1, score=0.858, total=   1.3s\n",
      "[CV] C=3792.690190732246, penalty=l1 .................................\n",
      "[CV] ..... C=3792.690190732246, penalty=l1, score=0.864, total=   0.7s\n",
      "[CV] C=3792.690190732246, penalty=l1 .................................\n",
      "[CV] ..... C=3792.690190732246, penalty=l1, score=0.845, total=   1.3s\n",
      "[CV] C=3792.690190732246, penalty=l2 .................................\n",
      "[CV] ..... C=3792.690190732246, penalty=l2, score=0.858, total=   0.1s\n",
      "[CV] C=3792.690190732246, penalty=l2 .................................\n",
      "[CV] ..... C=3792.690190732246, penalty=l2, score=0.864, total=   0.1s\n",
      "[CV] C=3792.690190732246, penalty=l2 .................................\n",
      "[CV] ..... C=3792.690190732246, penalty=l2, score=0.845, total=   0.1s\n",
      "[CV] C=10000.0, penalty=l1 ...........................................\n",
      "[CV] ............... C=10000.0, penalty=l1, score=0.858, total=   1.3s\n",
      "[CV] C=10000.0, penalty=l1 ...........................................\n",
      "[CV] ............... C=10000.0, penalty=l1, score=0.864, total=   0.7s\n",
      "[CV] C=10000.0, penalty=l1 ...........................................\n",
      "[CV] ............... C=10000.0, penalty=l1, score=0.845, total=   1.3s\n",
      "[CV] C=10000.0, penalty=l2 ...........................................\n",
      "[CV] ............... C=10000.0, penalty=l2, score=0.858, total=   0.0s\n",
      "[CV] C=10000.0, penalty=l2 ...........................................\n",
      "[CV] ............... C=10000.0, penalty=l2, score=0.864, total=   0.0s\n",
      "[CV] C=10000.0, penalty=l2 ...........................................\n",
      "[CV] ............... C=10000.0, penalty=l2, score=0.845, total=   0.0s\n"
     ]
    },
    {
     "name": "stderr",
     "output_type": "stream",
     "text": [
      "[Parallel(n_jobs=1)]: Done 120 out of 120 | elapsed:   32.9s finished\n"
     ]
    }
   ],
   "source": [
    "# Train the model with GridSearch\n",
    "best_model = grid.fit(X_train_scaled, y_train)"
   ]
  },
  {
   "cell_type": "code",
   "execution_count": 15,
   "metadata": {},
   "outputs": [
    {
     "name": "stdout",
     "output_type": "stream",
     "text": [
      "{'C': 11.288378916846883, 'penalty': 'l1'}\n"
     ]
    }
   ],
   "source": [
    "print(best_model.best_params_)"
   ]
  },
  {
   "cell_type": "code",
   "execution_count": 19,
   "metadata": {},
   "outputs": [],
   "source": [
    "# Assign best parameters to variables\n",
    "best_c = best_model.best_params_['C']\n",
    "best_penalty = best_model.best_params_['penalty']"
   ]
  },
  {
   "cell_type": "markdown",
   "metadata": {},
   "source": [
    "# Predict with `best_model`"
   ]
  },
  {
   "cell_type": "code",
   "execution_count": 20,
   "metadata": {},
   "outputs": [
    {
     "data": {
      "text/html": [
       "<div>\n",
       "<style scoped>\n",
       "    .dataframe tbody tr th:only-of-type {\n",
       "        vertical-align: middle;\n",
       "    }\n",
       "\n",
       "    .dataframe tbody tr th {\n",
       "        vertical-align: top;\n",
       "    }\n",
       "\n",
       "    .dataframe thead th {\n",
       "        text-align: right;\n",
       "    }\n",
       "</style>\n",
       "<table border=\"1\" class=\"dataframe\">\n",
       "  <thead>\n",
       "    <tr style=\"text-align: right;\">\n",
       "      <th></th>\n",
       "      <th>Actual</th>\n",
       "      <th>Predicted</th>\n",
       "    </tr>\n",
       "  </thead>\n",
       "  <tbody>\n",
       "    <tr>\n",
       "      <th>1084</th>\n",
       "      <td>CONFIRMED</td>\n",
       "      <td>CONFIRMED</td>\n",
       "    </tr>\n",
       "    <tr>\n",
       "      <th>3380</th>\n",
       "      <td>CANDIDATE</td>\n",
       "      <td>CANDIDATE</td>\n",
       "    </tr>\n",
       "    <tr>\n",
       "      <th>4904</th>\n",
       "      <td>CANDIDATE</td>\n",
       "      <td>CANDIDATE</td>\n",
       "    </tr>\n",
       "    <tr>\n",
       "      <th>6</th>\n",
       "      <td>CONFIRMED</td>\n",
       "      <td>CONFIRMED</td>\n",
       "    </tr>\n",
       "    <tr>\n",
       "      <th>1665</th>\n",
       "      <td>FALSE POSITIVE</td>\n",
       "      <td>FALSE POSITIVE</td>\n",
       "    </tr>\n",
       "  </tbody>\n",
       "</table>\n",
       "</div>"
      ],
      "text/plain": [
       "              Actual       Predicted\n",
       "1084       CONFIRMED       CONFIRMED\n",
       "3380       CANDIDATE       CANDIDATE\n",
       "4904       CANDIDATE       CANDIDATE\n",
       "6          CONFIRMED       CONFIRMED\n",
       "1665  FALSE POSITIVE  FALSE POSITIVE"
      ]
     },
     "execution_count": 20,
     "metadata": {},
     "output_type": "execute_result"
    }
   ],
   "source": [
    "grid_predictions = best_model.predict(X_test_scaled)\n",
    "df_grid = pd.DataFrame({\"Actual\":y_test, \"Predicted\":grid_predictions}) \n",
    "df_grid.head()"
   ]
  },
  {
   "cell_type": "code",
   "execution_count": 21,
   "metadata": {},
   "outputs": [
    {
     "name": "stdout",
     "output_type": "stream",
     "text": [
      "Best Score:  0.8567613961472439\n"
     ]
    }
   ],
   "source": [
    "print('Best Score: ', best_model.best_score_)"
   ]
  },
  {
   "cell_type": "markdown",
   "metadata": {},
   "source": [
    "# Predict With GridSearch Parameters"
   ]
  },
  {
   "cell_type": "code",
   "execution_count": 22,
   "metadata": {},
   "outputs": [
    {
     "data": {
      "text/plain": [
       "LogisticRegression(C=11.288378916846883, class_weight=None, dual=False,\n",
       "                   fit_intercept=True, intercept_scaling=1, l1_ratio=None,\n",
       "                   max_iter=100, multi_class='warn', n_jobs=None, penalty='l1',\n",
       "                   random_state=None, solver='warn', tol=0.0001, verbose=0,\n",
       "                   warm_start=False)"
      ]
     },
     "execution_count": 22,
     "metadata": {},
     "output_type": "execute_result"
    }
   ],
   "source": [
    "# Initialize model with new parameters\n",
    "model2 = LogisticRegression(penalty=best_penalty, C=best_c)\n",
    "\n",
    "# Train the model\n",
    "model2.fit(X_train_scaled, y_train)"
   ]
  },
  {
   "cell_type": "code",
   "execution_count": 23,
   "metadata": {},
   "outputs": [
    {
     "data": {
      "text/html": [
       "<div>\n",
       "<style scoped>\n",
       "    .dataframe tbody tr th:only-of-type {\n",
       "        vertical-align: middle;\n",
       "    }\n",
       "\n",
       "    .dataframe tbody tr th {\n",
       "        vertical-align: top;\n",
       "    }\n",
       "\n",
       "    .dataframe thead th {\n",
       "        text-align: right;\n",
       "    }\n",
       "</style>\n",
       "<table border=\"1\" class=\"dataframe\">\n",
       "  <thead>\n",
       "    <tr style=\"text-align: right;\">\n",
       "      <th></th>\n",
       "      <th>Actual</th>\n",
       "      <th>Predicted</th>\n",
       "    </tr>\n",
       "  </thead>\n",
       "  <tbody>\n",
       "    <tr>\n",
       "      <th>1084</th>\n",
       "      <td>CONFIRMED</td>\n",
       "      <td>CONFIRMED</td>\n",
       "    </tr>\n",
       "    <tr>\n",
       "      <th>3380</th>\n",
       "      <td>CANDIDATE</td>\n",
       "      <td>CANDIDATE</td>\n",
       "    </tr>\n",
       "    <tr>\n",
       "      <th>4904</th>\n",
       "      <td>CANDIDATE</td>\n",
       "      <td>CANDIDATE</td>\n",
       "    </tr>\n",
       "    <tr>\n",
       "      <th>6</th>\n",
       "      <td>CONFIRMED</td>\n",
       "      <td>CONFIRMED</td>\n",
       "    </tr>\n",
       "    <tr>\n",
       "      <th>1665</th>\n",
       "      <td>FALSE POSITIVE</td>\n",
       "      <td>FALSE POSITIVE</td>\n",
       "    </tr>\n",
       "  </tbody>\n",
       "</table>\n",
       "</div>"
      ],
      "text/plain": [
       "              Actual       Predicted\n",
       "1084       CONFIRMED       CONFIRMED\n",
       "3380       CANDIDATE       CANDIDATE\n",
       "4904       CANDIDATE       CANDIDATE\n",
       "6          CONFIRMED       CONFIRMED\n",
       "1665  FALSE POSITIVE  FALSE POSITIVE"
      ]
     },
     "execution_count": 23,
     "metadata": {},
     "output_type": "execute_result"
    }
   ],
   "source": [
    "# Make predictions on test data\n",
    "df2 = pd.DataFrame({'Actual':y_test, 'Predicted':model2.predict(X_test_scaled)})\n",
    "df2.head()"
   ]
  },
  {
   "cell_type": "code",
   "execution_count": 24,
   "metadata": {},
   "outputs": [
    {
     "name": "stdout",
     "output_type": "stream",
     "text": [
      "0.8575514874141876\n"
     ]
    }
   ],
   "source": [
    "print(model2.score(X_test_scaled, y_test))"
   ]
  }
 ],
 "metadata": {
  "kernel_info": {
   "name": "dev"
  },
  "kernelspec": {
   "display_name": "Python 3",
   "language": "python",
   "name": "python3"
  },
  "language_info": {
   "codemirror_mode": {
    "name": "ipython",
    "version": 3
   },
   "file_extension": ".py",
   "mimetype": "text/x-python",
   "name": "python",
   "nbconvert_exporter": "python",
   "pygments_lexer": "ipython3",
   "version": "3.7.3"
  },
  "nteract": {
   "version": "0.12.3"
  }
 },
 "nbformat": 4,
 "nbformat_minor": 2
}
